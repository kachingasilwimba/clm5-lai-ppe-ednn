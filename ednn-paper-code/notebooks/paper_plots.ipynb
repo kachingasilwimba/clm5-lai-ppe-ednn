{
 "cells": [
  {
   "cell_type": "code",
   "execution_count": 1,
   "id": "bb899b4a-6916-4258-9c8b-f2b88bb59f52",
   "metadata": {},
   "outputs": [
    {
     "name": "stderr",
     "output_type": "stream",
     "text": [
      "2025-08-04 21:26:38.415423: I tensorflow/core/util/port.cc:113] oneDNN custom operations are on. You may see slightly different numerical results due to floating-point round-off errors from different computation orders. To turn them off, set the environment variable `TF_ENABLE_ONEDNN_OPTS=0`.\n",
      "2025-08-04 21:26:38.479487: I tensorflow/core/platform/cpu_feature_guard.cc:210] This TensorFlow binary is optimized to use available CPU instructions in performance-critical operations.\n",
      "To enable the following instructions: AVX2 AVX512F AVX512_VNNI FMA, in other operations, rebuild TensorFlow with the appropriate compiler flags.\n",
      "2025-08-04 21:26:39.586897: W tensorflow/compiler/tf2tensorrt/utils/py_utils.cc:38] TF-TRT Warning: Could not find TensorRT\n"
     ]
    }
   ],
   "source": [
    "import os, sys\n",
    "PROJECT_ROOT = os.path.abspath(os.path.join(os.getcwd(), \"..\"))\n",
    "if PROJECT_ROOT not in sys.path:\n",
    "    sys.path.insert(0, PROJECT_ROOT)\n",
    "    \n",
    "import os\n",
    "from model.pipeline import build_feature_matrix_and_target\n",
    "from data_processing.split import split_member_time\n",
    "from data_processing.grid_aggregate import conus_mean\n",
    "from model.ednn_model import ednn_regressor_model\n",
    "import numpy as np\n",
    "import matplotlib.pyplot as plt\n",
    "import numpy as np\n",
    "import tensorflow as tf\n",
    "from model.load_ednn_model import load_ednn_model, set_training_variance, predict_ednn\n",
    "from mlguess.keras.models import EvidentialRegressorDNN\n",
    "from mlguess.keras.losses import evidential_reg_loss\n",
    "import xarray as xr"
   ]
  },
  {
   "cell_type": "code",
   "execution_count": null,
   "id": "e5f61597-a0db-40eb-bd53-453062c3901b",
   "metadata": {},
   "outputs": [],
   "source": [
    "#---------------- Build the full feature & target arrays\n",
    "X, y = build_feature_matrix_and_target()\n",
    "\n",
    "#---------------- Split & scale (returns 8 objects)\n",
    "(\n",
    "    X_train_xr, X_val_xr,\n",
    "    y_train_xr, y_val_xr,\n",
    "    X_train,    X_val,\n",
    "    y_train,    y_val\n",
    ") = split_member_time(X, y)\n",
    "\n",
    "#---------------- Sanity‐check shapes\n",
    "print(\"Full X, y shapes:         \", X.shape, y.shape)\n",
    "print(\"X_train_xr, X_val_xr:     \", X_train_xr.shape, X_val_xr.shape)\n",
    "print(\"X_train, X_val:           \", X_train.shape, X_val.shape)\n",
    "print(\"y_train_xr, y_val_xr:     \", y_train_xr.shape, y_val_xr.shape)\n",
    "print(\"y_train, y_val:           \", y_train.shape, y_val.shape)"
   ]
  },
  {
   "cell_type": "code",
   "execution_count": null,
   "id": "2b990409-8d5d-45f0-80ee-662822929775",
   "metadata": {},
   "outputs": [],
   "source": [
    "model_folder = \"/bsuhome/ksilwimba/scratch/clm5-lai-ppe-ednn/temporal_ppe_emulation/saved_model\"\n",
    "model_path   = f\"{model_folder}/ednn_reg_model.keras\"\n",
    "loss_weight  = 1e-10#1e-10   # match what you trained with\n",
    "\n",
    "model = load_ednn_model(model_path, loss_weight)\n",
    "set_training_variance(model, y_train)\n",
    "p_wu_val, p_wo_val = predict_ednn(model, X_val)"
   ]
  },
  {
   "cell_type": "code",
   "execution_count": null,
   "id": "779871c5-9f86-43b8-94de-49860d787007",
   "metadata": {},
   "outputs": [],
   "source": [
    "#---------------- Wrap train predictions back to xarray and unstack\n",
    "param_names = [\"mu\",\"nu\",\"alpha\",\"beta\"]\n",
    "\n",
    "#---------------- Wrap validation predictions back to xarray and unstack\n",
    "pred_val_ds = xr.Dataset(\n",
    "    { name: ((\"sample\",), p_wo_val[:, i]) \n",
    "      for i, name in enumerate(param_names) },\n",
    "    coords={\"sample\": y_val_xr.coords[\"sample\"]}\n",
    ")\n",
    "\n",
    "pred_val_ds[\"TLAI_unc\"] = xr.DataArray(\n",
    "    p_wu_val,\n",
    "    dims=(\"sample\",\"uncertainty\"),\n",
    "    coords={\n",
    "      \"sample\":      y_val_xr.coords[\"sample\"],\n",
    "      \"uncertainty\": [\"mean\",\"aleatoric\",\"epistemic\"]\n",
    "    },\n",
    "    name=\"TLAI_uncertainties\"\n",
    ")\n",
    "\n",
    "pred_val_3d = pred_val_ds.unstack(\"sample\")\n",
    "\n",
    "#---------------- Inspect\n",
    "print(\"VALIDATION PREDICTIONS:\", pred_val_3d)"
   ]
  },
  {
   "cell_type": "code",
   "execution_count": null,
   "id": "65782358-ed41-4e0a-9a38-1e87f772591a",
   "metadata": {},
   "outputs": [],
   "source": [
    "lai_glob = \"/bsuhome/ksilwimba/scratch/NCAR/Data/LAI/TLAI/*.nc\"\n",
    "land_area_path = \"/bsuhome/ksilwimba/scratch/NCAR/Data/helpers/sparsegrid_landarea.nc\"\n",
    "\n",
    "#------------- Load land area\n",
    "land_area = xr.open_dataset(land_area_path).landarea"
   ]
  },
  {
   "cell_type": "code",
   "execution_count": null,
   "id": "99d1299a-b751-4374-8925-e839d1330fd2",
   "metadata": {},
   "outputs": [],
   "source": [
    "y_val_3d = y_val_xr.unstack(\"sample\")\n",
    "pred_val_3d_ = conus_mean(pred_val_3d, land_area)\n",
    "y_val_3d_ = conus_mean(y_val_3d, land_area)"
   ]
  },
  {
   "cell_type": "code",
   "execution_count": null,
   "id": "330d1ba5-418d-4338-9e86-84f131f30d88",
   "metadata": {},
   "outputs": [],
   "source": []
  }
 ],
 "metadata": {
  "kernelspec": {
   "display_name": "xesmf_env2",
   "language": "python",
   "name": "xesmf_env2"
  },
  "language_info": {
   "codemirror_mode": {
    "name": "ipython",
    "version": 3
   },
   "file_extension": ".py",
   "mimetype": "text/x-python",
   "name": "python",
   "nbconvert_exporter": "python",
   "pygments_lexer": "ipython3",
   "version": "3.11.7"
  }
 },
 "nbformat": 4,
 "nbformat_minor": 5
}
